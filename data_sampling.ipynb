{
 "cells": [
  {
   "cell_type": "code",
   "execution_count": 2,
   "metadata": {},
   "outputs": [],
   "source": [
    "import pandas as pd\n",
    "\n",
    "# Load the CSV data\n",
    "df = pd.read_csv('btc_1h_data_training.csv')\n",
    "\n",
    "# Initialize dataframes for trends\n",
    "uptrend_df = pd.DataFrame()\n",
    "downtrend_df = pd.DataFrame()\n",
    "sideways_df = pd.DataFrame()"
   ]
  },
  {
   "cell_type": "code",
   "execution_count": 3,
   "metadata": {},
   "outputs": [],
   "source": [
    "df['MA'] = df['close'].rolling(window=6).mean()\n",
    "\n",
    "# Loop through the dataset in chunks of 6 rows\n",
    "for i in range(5, len(df)):  # Start from the 6th row because of the moving average window\n",
    "    # Get the moving average values for the chunk\n",
    "    ma_chunk = df.iloc[i-5:i+1]['MA']\n",
    "\n",
    "    # Check if the chunk has valid moving averages\n",
    "    if ma_chunk.isna().any():\n",
    "        continue\n",
    "\n",
    "    # Determine the trend based on the moving average\n",
    "    if ma_chunk.is_monotonic_increasing:  # If moving average is increasing\n",
    "        uptrend_df = pd.concat([uptrend_df, df.iloc[i-5:i+1]])\n",
    "    elif ma_chunk.is_monotonic_decreasing:  # If moving average is decreasing\n",
    "        downtrend_df = pd.concat([downtrend_df, df.iloc[i-5:i+1]])\n",
    "    else:  # If neither increasing nor decreasing, it's sideways\n",
    "        sideways_df = pd.concat([sideways_df, df.iloc[i-5:i+1]])"
   ]
  },
  {
   "cell_type": "code",
   "execution_count": 4,
   "metadata": {},
   "outputs": [],
   "source": [
    "uptrend_df.to_csv('uptrend.csv', index=False)\n",
    "downtrend_df.to_csv('downtrend.csv', index=False)\n",
    "sideways_df.to_csv('sideways.csv', index=False)"
   ]
  },
  {
   "cell_type": "code",
   "execution_count": 7,
   "metadata": {},
   "outputs": [
    {
     "name": "stdout",
     "output_type": "stream",
     "text": [
      "uptrend_df length:  71622\n",
      "downtrend_df length:  64434\n",
      "sideways_df length:  191622\n",
      "uptrend_df / total length:  0.21857433211872632\n",
      "downtrend_df / total length:  0.19663816307472579\n",
      "sideways_df / total length:  0.5847875048065478\n"
     ]
    }
   ],
   "source": [
    "print(\"uptrend_df length: \", len(uptrend_df))\n",
    "print(\"downtrend_df length: \", len(downtrend_df))\n",
    "print(\"sideways_df length: \", len(sideways_df))\n",
    "total = len(uptrend_df) + len(downtrend_df) + len(sideways_df)\n",
    "print(\"uptrend_df / total length: \", len(uptrend_df)/total)\n",
    "print(\"downtrend_df / total length: \", len(downtrend_df)/total)\n",
    "print(\"sideways_df / total length: \", len(sideways_df)/total)"
   ]
  },
  {
   "cell_type": "code",
   "execution_count": 9,
   "metadata": {},
   "outputs": [
    {
     "name": "stdout",
     "output_type": "stream",
     "text": [
      "Balanced DataFrame created with equal distribution of trends.\n"
     ]
    }
   ],
   "source": [
    "min_length = min(len(uptrend_df), len(downtrend_df), len(sideways_df))\n",
    "\n",
    "# Sample the same number of rows from each DataFrame\n",
    "uptrend_sampled = uptrend_df.sample(n=min_length, random_state=42)\n",
    "downtrend_sampled = downtrend_df.sample(n=min_length, random_state=42)\n",
    "sideways_sampled = sideways_df.sample(n=min_length, random_state=42)\n",
    "\n",
    "# Concatenate the sampled DataFrames\n",
    "balanced_df = pd.concat([uptrend_sampled, downtrend_sampled, sideways_sampled])\n",
    "\n",
    "# Sort the resulting DataFrame by timestamp (assuming there's a 'time' column)\n",
    "balanced_df = balanced_df.sort_values(by='time')\n",
    "\n",
    "# Reset the index if necessary\n",
    "balanced_df = balanced_df.reset_index(drop=True)\n",
    "\n",
    "# Save the balanced DataFrame to a CSV file\n",
    "balanced_df.to_csv('balanced_trend_data.csv', index=False)\n",
    "\n",
    "print(\"Balanced DataFrame created with equal distribution of trends.\")"
   ]
  }
 ],
 "metadata": {
  "kernelspec": {
   "display_name": "base",
   "language": "python",
   "name": "python3"
  },
  "language_info": {
   "codemirror_mode": {
    "name": "ipython",
    "version": 3
   },
   "file_extension": ".py",
   "mimetype": "text/x-python",
   "name": "python",
   "nbconvert_exporter": "python",
   "pygments_lexer": "ipython3",
   "version": "3.11.5"
  }
 },
 "nbformat": 4,
 "nbformat_minor": 2
}
