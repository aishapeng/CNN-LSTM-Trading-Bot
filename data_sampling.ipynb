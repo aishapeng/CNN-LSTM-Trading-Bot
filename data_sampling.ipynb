{
 "cells": [
  {
   "cell_type": "code",
   "execution_count": 39,
   "metadata": {},
   "outputs": [
    {
     "data": {
      "text/html": [
       "<div>\n",
       "<style scoped>\n",
       "    .dataframe tbody tr th:only-of-type {\n",
       "        vertical-align: middle;\n",
       "    }\n",
       "\n",
       "    .dataframe tbody tr th {\n",
       "        vertical-align: top;\n",
       "    }\n",
       "\n",
       "    .dataframe thead th {\n",
       "        text-align: right;\n",
       "    }\n",
       "</style>\n",
       "<table border=\"1\" class=\"dataframe\">\n",
       "  <thead>\n",
       "    <tr style=\"text-align: right;\">\n",
       "      <th></th>\n",
       "      <th>time</th>\n",
       "      <th>open</th>\n",
       "      <th>high</th>\n",
       "      <th>low</th>\n",
       "      <th>close</th>\n",
       "      <th>volume</th>\n",
       "    </tr>\n",
       "  </thead>\n",
       "  <tbody>\n",
       "    <tr>\n",
       "      <th>0</th>\n",
       "      <td>2018-01-01 00:00:00</td>\n",
       "      <td>13715.65</td>\n",
       "      <td>13715.65</td>\n",
       "      <td>13400.01</td>\n",
       "      <td>13529.01</td>\n",
       "      <td>443.356199</td>\n",
       "    </tr>\n",
       "    <tr>\n",
       "      <th>1</th>\n",
       "      <td>2018-01-01 01:00:00</td>\n",
       "      <td>13528.99</td>\n",
       "      <td>13595.89</td>\n",
       "      <td>13155.38</td>\n",
       "      <td>13203.06</td>\n",
       "      <td>383.697006</td>\n",
       "    </tr>\n",
       "    <tr>\n",
       "      <th>2</th>\n",
       "      <td>2018-01-01 02:00:00</td>\n",
       "      <td>13203.00</td>\n",
       "      <td>13418.43</td>\n",
       "      <td>13200.00</td>\n",
       "      <td>13330.18</td>\n",
       "      <td>429.064572</td>\n",
       "    </tr>\n",
       "    <tr>\n",
       "      <th>3</th>\n",
       "      <td>2018-01-01 03:00:00</td>\n",
       "      <td>13330.26</td>\n",
       "      <td>13611.27</td>\n",
       "      <td>13290.00</td>\n",
       "      <td>13410.03</td>\n",
       "      <td>420.087030</td>\n",
       "    </tr>\n",
       "    <tr>\n",
       "      <th>4</th>\n",
       "      <td>2018-01-01 04:00:00</td>\n",
       "      <td>13434.98</td>\n",
       "      <td>13623.29</td>\n",
       "      <td>13322.15</td>\n",
       "      <td>13601.01</td>\n",
       "      <td>340.807329</td>\n",
       "    </tr>\n",
       "  </tbody>\n",
       "</table>\n",
       "</div>"
      ],
      "text/plain": [
       "                  time      open      high       low     close      volume\n",
       "0  2018-01-01 00:00:00  13715.65  13715.65  13400.01  13529.01  443.356199\n",
       "1  2018-01-01 01:00:00  13528.99  13595.89  13155.38  13203.06  383.697006\n",
       "2  2018-01-01 02:00:00  13203.00  13418.43  13200.00  13330.18  429.064572\n",
       "3  2018-01-01 03:00:00  13330.26  13611.27  13290.00  13410.03  420.087030\n",
       "4  2018-01-01 04:00:00  13434.98  13623.29  13322.15  13601.01  340.807329"
      ]
     },
     "execution_count": 39,
     "metadata": {},
     "output_type": "execute_result"
    }
   ],
   "source": [
    "import pandas as pd\n",
    "from indicators import *\n",
    "\n",
    "# Load the CSV data\n",
    "df = pd.read_csv('./data/btc_1h_data_training.csv')\n",
    "\n",
    "# Initialize dataframes for trends\n",
    "uptrend_df = pd.DataFrame()\n",
    "downtrend_df = pd.DataFrame()\n",
    "sideways_df = pd.DataFrame()\n",
    "\n",
    "df.head(5)"
   ]
  },
  {
   "cell_type": "code",
   "execution_count": 40,
   "metadata": {},
   "outputs": [
    {
     "name": "stdout",
     "output_type": "stream",
     "text": [
      "54515\n",
      "54515\n",
      "               Timestamp     Close       rsi       cmf      natr        MA\n",
      "108  2018-01-05 13:00:00  0.600763  0.687982  0.239490  0.022683  0.585486\n",
      "109  2018-01-05 14:00:00  0.557984  0.689219  0.219465  0.022674  0.586565\n",
      "110  2018-01-05 15:00:00  0.553737  0.684330  0.211637  0.021916  0.573033\n",
      "111  2018-01-05 16:00:00  0.617861  0.732149  0.282888  0.021694  0.570305\n",
      "112  2018-01-05 17:00:00  0.590010  0.754437  0.276969  0.022896  0.568739\n",
      "               Timestamp      Open      High       Low     Close       Volume  \\\n",
      "108  2018-01-05 13:00:00  15838.00  16199.00  15750.00  16093.94   996.320352   \n",
      "109  2018-01-05 14:00:00  16071.62  16267.04  15901.01  16103.18   991.739170   \n",
      "110  2018-01-05 15:00:00  16103.18  16170.00  15980.63  16087.72   787.319320   \n",
      "111  2018-01-05 16:00:00  16094.99  16500.00  16087.73  16449.00  1007.615517   \n",
      "112  2018-01-05 17:00:00  16449.00  17118.13  16420.00  16650.00   937.578122   \n",
      "\n",
      "           rsi         atr       cmf  \n",
      "108  68.798192  365.062132  0.239490  \n",
      "109  68.921911  365.131266  0.219465  \n",
      "110  68.432982  352.576889  0.211637  \n",
      "111  73.214887  356.841397  0.282888  \n",
      "112  75.443670  381.219155  0.276969  \n"
     ]
    }
   ],
   "source": [
    "from utils import Normalizing\n",
    "\n",
    "\n",
    "df = df.rename(columns={'time': 'Timestamp', 'open': 'Open', 'high': 'High', 'low': 'Low', 'close': 'Close',\n",
    "                            'volume': 'Volume'})\n",
    "df = AddIndicators(df)\n",
    "df = df[100:]\n",
    "df_original = df.copy()\n",
    "df_original = df_original.iloc[8:]\n",
    "\n",
    "df = Normalizing(df).dropna()\n",
    "df['MA'] = df['Close'].rolling(window=7).mean()\n",
    "df = df.iloc[7:]\n",
    "print(len(df))\n",
    "print(len(df_original))\n",
    "print((df.head(5)))\n",
    "print((df_original.head(5)))"
   ]
  },
  {
   "cell_type": "code",
   "execution_count": 42,
   "metadata": {},
   "outputs": [],
   "source": [
    "# Loop through the dataset in chunks of 6 rows\n",
    "for i in range(5, len(df)):  # Start from the 6th row because of the moving average window\n",
    "    # Get the moving average values for the chunk\n",
    "    ma_chunk = df.iloc[i-5:i+1]['MA']\n",
    "\n",
    "    # Check if the chunk has valid moving averages\n",
    "    if ma_chunk.isna().any():\n",
    "        continue\n",
    "\n",
    "    # Determine the trend based on the moving average\n",
    "    if ma_chunk.is_monotonic_increasing:  # If moving average is increasing\n",
    "        uptrend_df = pd.concat([uptrend_df, df.iloc[i-5:i+1]])\n",
    "    elif ma_chunk.is_monotonic_decreasing:  # If moving average is decreasing\n",
    "        downtrend_df = pd.concat([downtrend_df, df.iloc[i-5:i+1]])\n",
    "    else:  # If neither increasing nor decreasing, it's sideways\n",
    "        sideways_df = pd.concat([sideways_df, df.iloc[i-5:i+1]])"
   ]
  },
  {
   "cell_type": "code",
   "execution_count": 43,
   "metadata": {},
   "outputs": [],
   "source": [
    "uptrend_df.to_csv('./data/uptrend_normalised.csv', index=False)\n",
    "downtrend_df.to_csv('./data/downtrend_normalised.csv', index=False)\n",
    "sideways_df.to_csv('./data/sideways_normalised.csv', index=False)"
   ]
  },
  {
   "cell_type": "code",
   "execution_count": 44,
   "metadata": {},
   "outputs": [
    {
     "name": "stdout",
     "output_type": "stream",
     "text": [
      "uptrend_df length:  7140\n",
      "downtrend_df length:  6978\n",
      "sideways_df length:  312942\n",
      "uptrend_df / total length:  0.021830856723536966\n",
      "downtrend_df / total length:  0.021335534764263437\n",
      "sideways_df / total length:  0.9568336085121996\n"
     ]
    }
   ],
   "source": [
    "print(\"uptrend_df length: \", len(uptrend_df))\n",
    "print(\"downtrend_df length: \", len(downtrend_df))\n",
    "print(\"sideways_df length: \", len(sideways_df))\n",
    "total = len(uptrend_df) + len(downtrend_df) + len(sideways_df)\n",
    "print(\"uptrend_df / total length: \", len(uptrend_df)/total)\n",
    "print(\"downtrend_df / total length: \", len(downtrend_df)/total)\n",
    "print(\"sideways_df / total length: \", len(sideways_df)/total)"
   ]
  },
  {
   "cell_type": "code",
   "execution_count": 45,
   "metadata": {},
   "outputs": [],
   "source": [
    "import pandas as pd\n",
    "from indicators import *\n",
    "\n",
    "# Load the CSV data\n",
    "uptrend_df = pd.read_csv('./data/uptrend_normalised.csv')\n",
    "downtrend_df = pd.read_csv('./data/downtrend_normalised.csv')\n",
    "sideways_df = pd.read_csv('./data/sideways_normalised.csv')"
   ]
  },
  {
   "cell_type": "code",
   "execution_count": 47,
   "metadata": {},
   "outputs": [
    {
     "name": "stdout",
     "output_type": "stream",
     "text": [
      "                  Timestamp     Close       rsi       cmf      natr        MA\n",
      "305964  2024-02-09 20:00:00  0.556501  0.714757  0.017324  0.008666  0.556773\n",
      "305965  2024-02-09 21:00:00  0.556160  0.713485  0.017720  0.008519  0.560118\n",
      "305966  2024-02-09 22:00:00  0.542692  0.642010 -0.040673  0.008730  0.557339\n",
      "305967  2024-02-09 23:00:00  0.548196  0.603225 -0.011817  0.008472  0.555197\n",
      "305968  2024-02-10 00:00:00  0.553765  0.590917 -0.013632  0.008186  0.551686\n",
      "305969  2024-02-10 01:00:00  0.568946  0.629801 -0.025832  0.008011  0.553896\n",
      "305970  2024-02-09 21:00:00  0.556160  0.713485  0.017720  0.008519  0.560118\n"
     ]
    }
   ],
   "source": [
    "sideways_df = sideways_df.iloc[305_964:]\n",
    "print(sideways_df.head(7))"
   ]
  },
  {
   "cell_type": "code",
   "execution_count": 48,
   "metadata": {},
   "outputs": [
    {
     "name": "stdout",
     "output_type": "stream",
     "text": [
      "Balanced DataFrame created with equal distribution of trends.\n"
     ]
    }
   ],
   "source": [
    "# min_length = min(len(uptrend_df), len(downtrend_df), len(sideways_df))\n",
    "\n",
    "# Sample the same number of rows from each DataFrame\n",
    "# uptrend_sampled = uptrend_df.sample(n=min_length, random_state=42)\n",
    "# downtrend_sampled = downtrend_df.sample(n=min_length, random_state=42)\n",
    "# sideways_sampled = sideways_df.sample(n=min_length, random_state=42)\n",
    "\n",
    "\n",
    "# Concatenate the sampled DataFrames\n",
    "balanced_df = pd.concat([uptrend_df, downtrend_df, sideways_df])\n",
    "\n",
    "# Reset the index if necessary\n",
    "balanced_df = balanced_df.reset_index(drop=True)\n",
    "\n",
    "# Save the balanced DataFrame to a CSV file\n",
    "balanced_df.to_csv('./data/balanced_trend_data_normalised.csv', index=False)\n",
    "\n",
    "print(\"Balanced DataFrame created with equal distribution of trends.\")"
   ]
  },
  {
   "cell_type": "code",
   "execution_count": 54,
   "metadata": {},
   "outputs": [],
   "source": [
    "balanced_df = balanced_df.drop(balanced_df.columns[1:], axis=1)\n",
    "result_df = balanced_df.merge(df_original, on='Timestamp', how='inner')\n",
    "result_df.head(10)\n",
    "result_df.to_csv('./data/balanced_trend_data_normalised_original.csv', index=False)"
   ]
  },
  {
   "cell_type": "code",
   "execution_count": null,
   "metadata": {},
   "outputs": [],
   "source": []
  }
 ],
 "metadata": {
  "kernelspec": {
   "display_name": "venv",
   "language": "python",
   "name": "python3"
  },
  "language_info": {
   "codemirror_mode": {
    "name": "ipython",
    "version": 3
   },
   "file_extension": ".py",
   "mimetype": "text/x-python",
   "name": "python",
   "nbconvert_exporter": "python",
   "pygments_lexer": "ipython3",
   "version": "3.10.0"
  }
 },
 "nbformat": 4,
 "nbformat_minor": 2
}
